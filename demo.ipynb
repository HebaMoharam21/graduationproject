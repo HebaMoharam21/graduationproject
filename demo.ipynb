{
 "cells": [
  {
   "cell_type": "code",
   "execution_count": 1,
   "metadata": {},
   "outputs": [],
   "source": [
    "import Library as lb\n",
    "import classes as cl\n"
   ]
  },
  {
   "cell_type": "code",
   "execution_count": 2,
   "metadata": {},
   "outputs": [],
   "source": [
    "def runResult(image_path):\n",
    "    predictions_crops, pred_list = lb.segmentandpredict(image_path)\n",
    "    for i in range(len(pred_list)):\n",
    "        print(pred_list[i])\n",
    "        print(len(pred_list[i]))\n",
    "    print(\"=======================================================================\")\n",
    "    x=lb.forParser(predictions_crops,pred_list)\n",
    "    print(x)\n",
    "    y = lb.ParseWords(x , 'XT')"
   ]
  },
  {
   "cell_type": "code",
   "execution_count": 3,
   "metadata": {},
   "outputs": [
    {
     "name": "stderr",
     "output_type": "stream",
     "text": [
      "c:\\Users\\HP.DESKTOP-J622CV6\\anaconda3\\Lib\\site-packages\\torchvision\\transforms\\functional.py:1603: UserWarning: The default value of the antialias parameter of all the resizing transforms (Resize(), RandomResizedCrop(), etc.) will change from None to True in v0.17, in order to be consistent across the PIL and Tensor backends. To suppress this warning, directly pass antialias=True (recommended, future default), antialias=None (current default, which means False for Tensors and True for PIL), or antialias=False (only works on Tensors - PIL will still use antialiasing). This also applies if you are using the inference transforms from the models weights: update the call to weights.transforms(antialias=True).\n",
      "  warnings.warn(\n"
     ]
    },
    {
     "name": "stdout",
     "output_type": "stream",
     "text": [
      "['LessThan', 'Other', 'GreaterThan', 'Arrow', 'Other', 'Other', 'Other', 'LessThan', 'Other', 'GreaterThan', 'LessThan', 'Other', 'GreaterThan', 'Other', 'Other']\n",
      "15\n",
      "['LessThan', 'Other', 'GreaterThan', 'Arrow', 'Other', 'Other', 'Other', 'Other', 'Other', 'Other', 'Other']\n",
      "11\n",
      "=======================================================================\n",
      "H -->  K A H E S H E\n",
      "B -->  K A H H i H E\n",
      "H -->  K A H E S H E\n",
      "B -->  K A H H i H E\n",
      "<classes.Grammar object at 0x00000206DF9AEF50>\n"
     ]
    }
   ],
   "source": [
    "img_path = r\"D:\\4th year\\2nd term\\project\\22.png\"\n",
    "runResult(img_path)\n",
    "\n"
   ]
  }
 ],
 "metadata": {
  "kernelspec": {
   "display_name": "Python 3",
   "language": "python",
   "name": "python3"
  },
  "language_info": {
   "codemirror_mode": {
    "name": "ipython",
    "version": 3
   },
   "file_extension": ".py",
   "mimetype": "text/x-python",
   "name": "python",
   "nbconvert_exporter": "python",
   "pygments_lexer": "ipython3",
   "version": "3.11.5"
  }
 },
 "nbformat": 4,
 "nbformat_minor": 2
}
